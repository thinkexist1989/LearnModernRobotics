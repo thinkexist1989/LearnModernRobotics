{
 "cells": [
  {
   "cell_type": "markdown",
   "metadata": {},
   "source": [
    "### 判断一个矩阵是不是SO(3)\n",
    "\n",
    "因为SO(3)空间满足：$R*R^T=I$，通过判断一个矩阵与SO(3)的距离来判断：\n",
    "\n",
    "$$\n",
    "D=||RR^T-I||_F\n",
    "$$"
   ]
  },
  {
   "cell_type": "code",
   "execution_count": 1,
   "metadata": {},
   "outputs": [
    {
     "name": "stdout",
     "output_type": "stream",
     "text": [
      "importing Jupyter notebook from chapter_3.ipynb\n",
      "[[1. 0. 0.]\n",
      " [0. 1. 0.]\n",
      " [0. 0. 1.]]\n",
      "[6.123234e-17 1.000000e+00 0.000000e+00]\n",
      "[[ 0 -3  2]\n",
      " [ 3  0 -1]\n",
      " [-2  1  0]]\n",
      "[1 2 3]\n",
      "[[ 1.00000000e+00 -6.83580866e-17  0.00000000e+00]\n",
      " [-6.83580866e-17  1.00000000e+00  0.00000000e+00]\n",
      " [ 0.00000000e+00  0.00000000e+00  1.00000000e+00]]\n",
      "[[ 1.00000000e+00  4.26642159e-17  1.22133484e-17]\n",
      " [ 4.26642159e-17  1.00000000e+00 -3.52068201e-17]\n",
      " [ 1.22133484e-17 -3.52068201e-17  1.00000000e+00]]\n",
      "Axis Angle: \n",
      "  (array([0.40824829, 0.81649658, 0.40824829]), 2.449489742783178)\n",
      "so3mat:\n",
      "  [[ 0 -1  2]\n",
      " [ 1  0 -1]\n",
      " [-2  1  0]]\n",
      "MatrixExp3：\n",
      " [[-0.47492144  0.32944181  0.81603782]\n",
      " [ 0.85049534  0.41003142  0.32944181]\n",
      " [-0.22606924  0.85049534 -0.47492144]]\n",
      "MatrixLog3:\n",
      " [[ 0. -1.  2.]\n",
      " [ 1.  0. -1.]\n",
      " [-2.  1.  0.]]\n",
      "so3 vec:  [1. 2. 1.]\n",
      "Axis Angle: \n",
      "  (array([0.40824829, 0.81649658, 0.40824829]), 2.4494897427831814)\n",
      "[ 0  0  2 -2 -4  0]\n",
      "[ 0.  0.  2. -2. -4.  0.]\n",
      "[ 0.   0.  -2.   2.8  4.   0. ]\n",
      "[ 0.   0.  -2.   2.8  4.   0. ]\n"
     ]
    }
   ],
   "source": [
    "# import ipynb_importer\n",
    "import import_ipynb\n",
    "import chapter_3\n",
    "import numpy as np\n",
    "\n",
    "def DistanceToSO3(mat):\n",
    "    \"\"\"Returns the Frobenius norm to describe the distance of mat from the\n",
    "    SO(3) manifold\n",
    "\n",
    "    :param mat: A 3x3 matrix\n",
    "    :return: A quantity describing the distance of mat from the SO(3)\n",
    "             manifold\n",
    "    Computes the distance from mat to the SO(3) manifold using the following\n",
    "    method:\n",
    "    If det(mat) <= 0, return a large number.\n",
    "    If det(mat) > 0, return norm(mat^T.mat - I).\n",
    "\n",
    "    Example Input:\n",
    "        mat = np.array([[ 1.0,  0.0,   0.0 ],\n",
    "                        [ 0.0,  0.1,  -0.95],\n",
    "                        [ 0.0,  1.0,   0.1 ]])\n",
    "    Output:\n",
    "        0.08835\n",
    "    \"\"\"\n",
    "    if np.linalg.det(mat) > 0: # SO(3)流形行列式肯定>0\n",
    "        return np.linalg.norm(np.dot(np.array(mat).T, mat) - np.eye(3)) # 返回RR^T-I的F范数\n",
    "    else:\n",
    "        return 1e+9 # 行列式<0则直接返回一个大数\n",
    "\n",
    "\n",
    "def TestIfSO3(mat):\n",
    "    \"\"\"Returns true if mat is close to or on the manifold SO(3)\n",
    "\n",
    "    :param mat: A 3x3 matrix\n",
    "    :return: True if mat is very close to or in SO(3), false otherwise\n",
    "    Computes the distance d from mat to the SO(3) manifold using the\n",
    "    following method:\n",
    "    If det(mat) <= 0, d = a large number.\n",
    "    If det(mat) > 0, d = norm(mat^T.mat - I).\n",
    "    If d is close to zero, return true. Otherwise, return false.\n",
    "\n",
    "    Example Input:\n",
    "        mat = np.array([[1.0, 0.0,  0.0 ],\n",
    "                        [0.0, 0.1, -0.95],\n",
    "                        [0.0, 1.0,  0.1 ]])\n",
    "    Output:\n",
    "        False\n",
    "    \"\"\"\n",
    "    return abs(DistanceToSO3(mat)) < 1e-3 # 若小于1e-3则认为是SO(3)"
   ]
  },
  {
   "cell_type": "markdown",
   "metadata": {},
   "source": [
    "验证一下："
   ]
  },
  {
   "cell_type": "code",
   "execution_count": 3,
   "metadata": {},
   "outputs": [
    {
     "name": "stdout",
     "output_type": "stream",
     "text": [
      "False\n",
      "True\n"
     ]
    }
   ],
   "source": [
    "mat = np.array([[1.0, 0.0,  0.0 ],\n",
    "                [0.0, 0.1, -0.95],\n",
    "                [0.0, 1.0,  0.1 ]])\n",
    "\n",
    "print(TestIfSO3(mat))\n",
    "\n",
    "A = chapter_3.Rodrigues(chapter_3.Normalize([1, 1, 0]), 90.0/180.0*np.pi)\n",
    "\n",
    "print(TestIfSO3(A))"
   ]
  }
 ],
 "metadata": {
  "interpreter": {
   "hash": "1e147cb73cde116f65fef45c392b359187d7b526e04d5e817a013b76f7eee0c1"
  },
  "kernelspec": {
   "display_name": "Python 3.8.12 ('d2l')",
   "language": "python",
   "name": "python3"
  },
  "language_info": {
   "codemirror_mode": {
    "name": "ipython",
    "version": 3
   },
   "file_extension": ".py",
   "mimetype": "text/x-python",
   "name": "python",
   "nbconvert_exporter": "python",
   "pygments_lexer": "ipython3",
   "version": "3.8.12"
  },
  "orig_nbformat": 4
 },
 "nbformat": 4,
 "nbformat_minor": 2
}
