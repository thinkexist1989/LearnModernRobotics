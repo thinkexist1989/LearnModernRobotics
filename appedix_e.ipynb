{
 "cells": [
  {
   "cell_type": "markdown",
   "metadata": {},
   "source": [
    "### 判断一个矩阵是不是SO(3)\n",
    "\n",
    "因为SO(3)空间满足：$R*R^T=I$，通过判断一个矩阵与SO(3)的距离来判断：\n",
    "\n",
    "$$\n",
    "D=||RR^T-I||_F\n",
    "$$"
   ]
  },
  {
   "cell_type": "code",
   "execution_count": 2,
   "metadata": {
    "ExecuteTime": {
     "end_time": "2023-10-08T06:33:39.042149500Z",
     "start_time": "2023-10-08T06:33:38.943144700Z"
    }
   },
   "outputs": [],
   "source": [
    "# import ipynb_importer\n",
    "# import import_ipynb\n",
    "\n",
    "import numpy as np\n",
    "\n",
    "def DistanceToSO3(mat):\n",
    "    \"\"\"Returns the Frobenius norm to describe the distance of mat from the\n",
    "    SO(3) manifold\n",
    "\n",
    "    :param mat: A 3x3 matrix\n",
    "    :return: A quantity describing the distance of mat from the SO(3)\n",
    "             manifold\n",
    "    Computes the distance from mat to the SO(3) manifold using the following\n",
    "    method:\n",
    "    If det(mat) <= 0, return a large number.\n",
    "    If det(mat) > 0, return norm(mat^T.mat - I).\n",
    "\n",
    "    Example Input:\n",
    "        mat = np.array([[ 1.0,  0.0,   0.0 ],\n",
    "                        [ 0.0,  0.1,  -0.95],\n",
    "                        [ 0.0,  1.0,   0.1 ]])\n",
    "    Output:\n",
    "        0.08835\n",
    "    \"\"\"\n",
    "    if np.linalg.det(mat) > 0: # SO(3)流形行列式肯定>0\n",
    "        return np.linalg.norm(np.dot(np.array(mat).T, mat) - np.eye(3)) # 返回RR^T-I的F范数\n",
    "    else:\n",
    "        return 1e+9 # 行列式<0则直接返回一个大数\n",
    "\n",
    "\n",
    "def TestIfSO3(mat):\n",
    "    \"\"\"Returns true if mat is close to or on the manifold SO(3)\n",
    "\n",
    "    :param mat: A 3x3 matrix\n",
    "    :return: True if mat is very close to or in SO(3), false otherwise\n",
    "    Computes the distance d from mat to the SO(3) manifold using the\n",
    "    following method:\n",
    "    If det(mat) <= 0, d = a large number.\n",
    "    If det(mat) > 0, d = norm(mat^T.mat - I).\n",
    "    If d is close to zero, return true. Otherwise, return false.\n",
    "\n",
    "    Example Input:\n",
    "        mat = np.array([[1.0, 0.0,  0.0 ],\n",
    "                        [0.0, 0.1, -0.95],\n",
    "                        [0.0, 1.0,  0.1 ]])\n",
    "    Output:\n",
    "        False\n",
    "    \"\"\"\n",
    "    return abs(DistanceToSO3(mat)) < 1e-3 # 若小于1e-3则认为是SO(3)"
   ]
  },
  {
   "cell_type": "markdown",
   "metadata": {},
   "source": [
    "验证一下："
   ]
  },
  {
   "cell_type": "code",
   "execution_count": 3,
   "metadata": {
    "ExecuteTime": {
     "end_time": "2023-10-08T06:33:46.965060800Z",
     "start_time": "2023-10-08T06:33:46.927065600Z"
    }
   },
   "outputs": [
    {
     "ename": "ModuleNotFoundError",
     "evalue": "No module named 'chapter_3'",
     "output_type": "error",
     "traceback": [
      "\u001B[1;31m---------------------------------------------------------------------------\u001B[0m",
      "\u001B[1;31mModuleNotFoundError\u001B[0m                       Traceback (most recent call last)",
      "Cell \u001B[1;32mIn[3], line 1\u001B[0m\n\u001B[1;32m----> 1\u001B[0m \u001B[38;5;28;01mimport\u001B[39;00m \u001B[38;5;21;01mchapter_3\u001B[39;00m\n\u001B[0;32m      3\u001B[0m mat \u001B[38;5;241m=\u001B[39m np\u001B[38;5;241m.\u001B[39marray([[\u001B[38;5;241m1.0\u001B[39m, \u001B[38;5;241m0.0\u001B[39m,  \u001B[38;5;241m0.0\u001B[39m ],\n\u001B[0;32m      4\u001B[0m                 [\u001B[38;5;241m0.0\u001B[39m, \u001B[38;5;241m0.1\u001B[39m, \u001B[38;5;241m-\u001B[39m\u001B[38;5;241m0.95\u001B[39m],\n\u001B[0;32m      5\u001B[0m                 [\u001B[38;5;241m0.0\u001B[39m, \u001B[38;5;241m1.0\u001B[39m,  \u001B[38;5;241m0.1\u001B[39m ]])\n\u001B[0;32m      7\u001B[0m \u001B[38;5;28mprint\u001B[39m(TestIfSO3(mat))\n",
      "\u001B[1;31mModuleNotFoundError\u001B[0m: No module named 'chapter_3'"
     ]
    }
   ],
   "source": [
    "import chapter_3\n",
    "\n",
    "mat = np.array([[1.0, 0.0,  0.0 ],\n",
    "                [0.0, 0.1, -0.95],\n",
    "                [0.0, 1.0,  0.1 ]])\n",
    "\n",
    "print(TestIfSO3(mat))\n",
    "\n",
    "A = chapter_3.Rodrigues(chapter_3.Normalize([1, 1, 0]), 90.0/180.0*np.pi)\n",
    "\n",
    "print(TestIfSO3(A))"
   ]
  },
  {
   "cell_type": "code",
   "execution_count": null,
   "outputs": [],
   "source": [],
   "metadata": {
    "collapsed": false
   }
  }
 ],
 "metadata": {
  "interpreter": {
   "hash": "1e147cb73cde116f65fef45c392b359187d7b526e04d5e817a013b76f7eee0c1"
  },
  "kernelspec": {
   "display_name": "Python 3.8.12 ('d2l')",
   "language": "python",
   "name": "python3"
  },
  "language_info": {
   "codemirror_mode": {
    "name": "ipython",
    "version": 3
   },
   "file_extension": ".py",
   "mimetype": "text/x-python",
   "name": "python",
   "nbconvert_exporter": "python",
   "pygments_lexer": "ipython3",
   "version": "3.8.12"
  },
  "orig_nbformat": 4
 },
 "nbformat": 4,
 "nbformat_minor": 2
}
