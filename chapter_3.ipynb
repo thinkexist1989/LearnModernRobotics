{
 "cells": [
  {
   "cell_type": "markdown",
   "metadata": {},
   "source": [
    "# 第三章 刚体运动\n",
    "\n",
    "> 所有坐标系遵循右手定则，即$\\hat{x}\\times\\hat{y}=\\hat{z}$\n",
    "\n",
    "所有刚体位形都可以通过螺旋运动来实现，从而衍生出6参数位形表示法：**指数坐标（exponential coordinate）**。\n",
    "\n",
    "- **运动旋量（twist）**或**空间速度（spatial velocity）**：3个角速度和3个线速度\n",
    "- **力旋量（wrench）**或**空间力（spatial force）**：力和力矩\n"
   ]
  },
  {
   "cell_type": "markdown",
   "metadata": {},
   "source": [
    "一些辅助函数："
   ]
  },
  {
   "cell_type": "code",
   "execution_count": 2,
   "metadata": {
    "ExecuteTime": {
     "end_time": "2023-10-08T07:58:04.930485100Z",
     "start_time": "2023-10-08T07:58:04.501176400Z"
    }
   },
   "outputs": [],
   "source": [
    "import numpy as np # 导入numpy\n",
    "from numpy import sin, cos\n",
    "\n",
    "def Normalize(V):\n",
    "    \"\"\"Normalizes a vector\n",
    "\n",
    "    :param V: A vector\n",
    "    :return: A unit vector pointing in the same direction as z\n",
    "\n",
    "    Example Input:\n",
    "        V = np.array([1, 2, 3])\n",
    "    Output:\n",
    "        np.array([0.26726124, 0.53452248, 0.80178373])\n",
    "    \"\"\"\n",
    "    return V / np.linalg.norm(V)\n",
    "\n",
    "\n",
    "def NearZero(z):\n",
    "    \"\"\"Determines whether a scalar is small enough to be treated as zero\n",
    "\n",
    "    :param z: A scalar input to check\n",
    "    :return: True if z is close to zero, false otherwise\n",
    "\n",
    "    Example Input:\n",
    "        z = -1e-7\n",
    "    Output:\n",
    "        True\n",
    "    \"\"\"\n",
    "    return abs(z) < 1e-6"
   ]
  },
  {
   "cell_type": "markdown",
   "metadata": {},
   "source": [
    "## 3.1 平面内的刚体运动\n",
    "\n",
    "**螺旋运动（screw motion）**表示：螺旋轴(screw axis) + 旋转角度\n",
    "\n",
    "螺旋轴$S=(\\omega, v_x, v_y)$, $\\omega$为单位角速度, $v_x$和$v_y$为移动速度，旋转角度$\\theta$，刚体位移$S\\theta$，\n",
    "\n",
    "角速度与线速度组合称为**运动旋量（twist）**，单位螺旋轴$S=(\\omega, v_x, v_y)(\\omega=1)$，旋转速度$\\dot\\theta$，则运动旋量$\\mathcal{V} = S\\dot\\theta$\n"
   ]
  },
  {
   "cell_type": "markdown",
   "metadata": {},
   "source": [
    "> 常见的机器人姿态表示方法：轴角法、欧拉角法，RPY角法，凯莱-罗德里格斯参数法，单位四元数法"
   ]
  },
  {
   "cell_type": "markdown",
   "metadata": {},
   "source": [
    "**查理-莫兹（Chasles-Mozzi）定理**：任一刚体运动都可以通过绕某一螺旋轴旋转一定角度和平移来实现"
   ]
  },
  {
   "cell_type": "markdown",
   "metadata": {},
   "source": [
    "## 3.2 旋转与角速度\n",
    "\n",
    "### 旋转矩阵\n",
    "\n",
    "旋转矩阵中的3个列向量分别对应物体坐标系的3个单位坐标轴，即$(\\hat x_b, \\hat y_b, \\hat z_b)$\n",
    "\n",
    "3×3的旋转矩阵组成的集合成为特殊正交群（special orthogonal group）$SO(3)$，满足：(1)$R^TR=I$; (2)$det R = 1$\n",
    "\n",
    "> $SO(n)$群被称为矩阵李群（matrix Lie group），群中元素构成一个微分流形\n",
    "\n",
    "旋转矩阵特性：\n",
    "\n",
    "- **封闭性**：$AB$也是该群的一个元素\n",
    "- **结合律**：$(AB)C=A(BC)$\n",
    "- **幺元律**：存在单位元素$I$，满足$AI=IA=A$\n",
    "- **可逆性**：存在可逆单元$A^{-1}$，满足$AA^{-1}=A^{-1}A=I$\n"
   ]
  },
  {
   "cell_type": "markdown",
   "metadata": {},
   "source": [
    "旋转矩阵的应用：\n",
    "\n",
    "- **表示姿态**： $R_{bc}$表示{c}相对于{b}的姿态\n",
    "- **进行坐标系转换**，通过向量或坐标系来表示：下标消减原则，$R_{ab}R_{bc}=R_{ac}$\n",
    "- **对向量或坐标系进行旋转变换**：$R_{sc}$既可以看成{c}在{s}中姿态，可以看做{s}到{c}的变换"
   ]
  },
  {
   "cell_type": "markdown",
   "metadata": {},
   "source": [
    "旋转矩阵左乘和右乘：\n",
    "\n",
    "- 左乘$R=Rot(\\hat{\\omega},\\theta)$绕固定系中转轴$\\hat{\\omega}$转动\n",
    "- 右乘$R=Rot(\\hat{\\omega},\\theta)$绕物体系中转轴$\\hat{\\omega}$转动\n",
    "\n",
    "> 个人理解：绕固定系转轴旋转，可以理解成{s}变换到{s'}，{b}在{s'}下的表达，因此$R_{sb'} = R_{s'b} = R_{s's}R_{sb'}$；绕相对系转轴旋转，可以理解成先将{s}变换到{b}，然后将{b}变换到{b''}，因此$R_{sb''} = R_{sb}R_{bb''}$。因此导致了左乘和右乘的区别（旋转轴不变）"
   ]
  },
  {
   "cell_type": "markdown",
   "metadata": {},
   "source": [
    "定义旋转函数Rot(omega, theta)"
   ]
  },
  {
   "cell_type": "code",
   "execution_count": 3,
   "metadata": {
    "ExecuteTime": {
     "end_time": "2023-10-08T07:58:04.945489200Z",
     "start_time": "2023-10-08T07:58:04.586384700Z"
    }
   },
   "outputs": [],
   "source": [
    "def Rot(omega, theta):\n",
    "    \"\"\"General Rotation function\n",
    "\n",
    "    :param omega: Axis 3x1 vector\n",
    "    :param theta: Angle scalar\n",
    "    :return: Rotation Matrix 3x3\n",
    "\n",
    "    \"\"\"\n",
    "    omega = Normalize(omega)\n",
    "    return np.array([[cos(theta)+omega[0]**2*(1-cos(theta)),                   omega[0]*omega[1]*(1-cos(theta))-omega[2]*sin(theta),   omega[0]*omega[2]*(1-cos(theta))+omega[1]*sin(theta)],\n",
    "                     [omega[0]*omega[1]*(1-cos(theta))+omega[2]*sin(theta),    cos(theta)+omega[1]**2*(1-cos(theta)),                  omega[1]*omega[2]*(1-cos(theta))-omega[0]*sin(theta)],\n",
    "                     [omega[0]*omega[2]*(1-cos(theta))-omega[1]*sin(theta),    omega[1]*omega[2]*(1-cos(theta))+omega[0]*sin(theta),   cos(theta)+omega[2]**2*(1-cos(theta))               ]])"
   ]
  },
  {
   "cell_type": "markdown",
   "metadata": {},
   "source": [
    "测试一下旋转函数返回矩阵是否正确"
   ]
  },
  {
   "cell_type": "code",
   "execution_count": 4,
   "metadata": {
    "ExecuteTime": {
     "end_time": "2023-10-08T07:58:04.945489200Z",
     "start_time": "2023-10-08T07:58:04.590212100Z"
    }
   },
   "outputs": [
    {
     "name": "stdout",
     "output_type": "stream",
     "text": [
      "[[1. 0. 0.]\n",
      " [0. 1. 0.]\n",
      " [0. 0. 1.]]\n",
      "[6.123234e-17 1.000000e+00 0.000000e+00]\n"
     ]
    }
   ],
   "source": [
    "print(Rot([1, 0, 0], 0.0)) #不旋转单位阵\n",
    "\n",
    "A = Rot([0, 0, 1], 90.0/180.0*np.pi) #绕z旋转90°\n",
    "print(A.dot(np.array([1,0,0])))\n"
   ]
  },
  {
   "cell_type": "markdown",
   "metadata": {},
   "source": [
    "> 要旋转速度矢量$v$，只涉及用于表达$v$的坐标系，因此，$\\hat\\omega$也要在同一坐标系中描述，这个转动后的向量$v'$可写成$v'=Rv$"
   ]
  },
  {
   "cell_type": "markdown",
   "metadata": {},
   "source": [
    "### 角速度\n",
    "\n",
    "$\\hat\\omega$为瞬时单位转动轴，$\\dot\\theta$表示角速度，其组合表示**角速度（angular velocity）**（这个角速度$\\omega$是矢量）\n",
    "$$\n",
    "\\omega=\\hat\\omega\\dot\\theta\n",
    "$$\n",
    "\n",
    "在各个轴的速度分量：\n",
    "$$\n",
    "\\dot{\\hat x}=\\omega\\times\\hat x \\\\\n",
    "\\dot{\\hat y}=\\omega\\times\\hat y \\\\\n",
    "\\dot{\\hat z}=\\omega\\times\\hat z\n",
    "$$\n",
    "\n",
    "在某一特定时刻$t$，令$\\omega_s\\in\\mathbb{R}^3$表示固定坐标系中的角速度$\\omega$，则姿态矩阵$R(t)$的时间变化率$\\dot R(t)$表示成矩阵形式：\n",
    "$$\n",
    "\\dot R(t) = \\begin{bmatrix}\\omega_s\\times r_1 & \\omega_s\\times r_2 & \\omega_s\\times r_3 \\end{bmatrix} = \\omega_s \\times R\n",
    "$$\n",
    "\n",
    "为了将叉积消去，定义一种新的运算$[\\omega_s]R$，其中$[\\omega_s]$ 为向量 $\\omega_s\\in\\mathbb{R^3}$ 对应的**3×3反对称（skew-symmetric）矩阵**。\n",
    "$$\n",
    "[x] = \\begin{bmatrix}\n",
    "        0    & -x_3 &  x_2 \\\\\n",
    "        x_3  &   0  & -x_1 \\\\\n",
    "        -x_2 &  x_1 &   0\n",
    "      \\end{bmatrix}\n",
    "$$\n",
    "\n",
    "矩阵$[x]$就是与向量$x$相对应的3×3反对称矩阵。满足\n",
    "$$\n",
    "[x] = -[x]^T\n",
    "$$\n",
    "\n",
    "所有3×3反对称矩阵的集合称为so(3)，是**SO(3)群的李代数（Lie Algebra）**"
   ]
  },
  {
   "cell_type": "markdown",
   "metadata": {},
   "source": [
    "> $\\omega=\\hat\\omega\\theta$就是SO(3)的指数坐标"
   ]
  },
  {
   "cell_type": "code",
   "execution_count": 5,
   "metadata": {
    "ExecuteTime": {
     "end_time": "2023-10-08T07:58:04.945489200Z",
     "start_time": "2023-10-08T07:58:04.595279400Z"
    }
   },
   "outputs": [],
   "source": [
    "def AxisAng3(expc3):\n",
    "    \"\"\"Converts a 3-vector of exponential coordinates for rotation into\n",
    "    axis-angle form\n",
    "\n",
    "    :param expc3: A 3-vector of exponential coordinates for rotation\n",
    "    :return omghat: A unit rotation axis\n",
    "    :return theta: The corresponding rotation angle\n",
    "\n",
    "    Example Input:\n",
    "        expc3 = np.array([1, 2, 3])\n",
    "    Output:\n",
    "        (np.array([0.26726124, 0.53452248, 0.80178373]), 3.7416573867739413)\n",
    "    \"\"\"\n",
    "    return (Normalize(expc3), np.linalg.norm(expc3))"
   ]
  },
  {
   "cell_type": "markdown",
   "metadata": {},
   "source": [
    "**旋转矩阵和反对称矩阵特性：**\n",
    "\n",
    "给定任意$\\omega\\in\\mathbb{R^3}$和$R\\in SO(3)$，总能满足\n",
    "$$\n",
    "R[\\omega]R^T=[R\\omega]\n",
    "$$"
   ]
  },
  {
   "cell_type": "markdown",
   "metadata": {},
   "source": [
    "基于反对称矩阵定义，姿态矩阵变化率可重写为：\n",
    "$$\n",
    "[\\omega_s]R=\\dot R\n",
    "[\\omega_s] = \\dot RR^{-1}\n",
    "$$"
   ]
  },
  {
   "cell_type": "markdown",
   "metadata": {},
   "source": [
    "$\\omega_s$和$\\omega_b$分别表示同一角速度在不同坐标系的表达：\n",
    "$$\n",
    "\\omega_b=R_{sb}^{-1}\\omega_s=R^{-1}\\omega_s=R^T\\omega_s\n",
    "$$\n",
    "\n",
    "令$R(t)$表示物体坐标系相对固定坐标系的姿态矩阵，则旋转体的角速度\n",
    "$$\n",
    "\\dot RR^{-1}=[\\omega_s] \\\\\n",
    "R^{-1}\\dot R=[\\omega_b]\n",
    "$$\n",
    "\n",
    "> $\\omega_b$并不是相对动坐标系的角速度，$\\omega_b$表示的只是相对静坐标系{b}的角速度，**{b}只是与运动刚体随动坐标系瞬时重合**"
   ]
  },
  {
   "cell_type": "code",
   "execution_count": 6,
   "metadata": {
    "ExecuteTime": {
     "end_time": "2023-10-08T07:58:04.946489500Z",
     "start_time": "2023-10-08T07:58:04.599904300Z"
    }
   },
   "outputs": [],
   "source": [
    "def VecToso3(omega):\n",
    "    \"\"\"Converts a 3-vector to an so(3) representation\n",
    "\n",
    "    :param omega: A 3-vector\n",
    "    :return: The skew symmetric representation of omg\n",
    "\n",
    "    Example Input:\n",
    "        omg = np.array([1, 2, 3])\n",
    "    Output:\n",
    "        np.array([[ 0, -3,  2],\n",
    "                  [ 3,  0, -1],\n",
    "                  [-2,  1,  0]])\n",
    "    \"\"\"\n",
    "\n",
    "    return np.array([[        0, -omega[2],  omega[1]],\n",
    "                     [ omega[2],         0, -omega[0]],\n",
    "                     [-omega[1],  omega[0],        0]])"
   ]
  },
  {
   "cell_type": "code",
   "execution_count": 7,
   "metadata": {
    "ExecuteTime": {
     "end_time": "2023-10-08T07:58:04.946489500Z",
     "start_time": "2023-10-08T07:58:04.603754200Z"
    }
   },
   "outputs": [],
   "source": [
    "def so3ToVec(so3mat):\n",
    "    \"\"\"Converts an so(3) representation to a 3-vector\n",
    "\n",
    "    :param so3mat: A 3x3 skew-symmetric matrix\n",
    "    :return: The 3-vector corresponding to so3mat\n",
    "\n",
    "    Example Input:\n",
    "        so3mat = np.array([[ 0, -3,  2],\n",
    "                           [ 3,  0, -1],\n",
    "                           [-2,  1,  0]])\n",
    "    Output:\n",
    "        np.array([1, 2, 3])\n",
    "    \"\"\"\n",
    "    return np.array([so3mat[2][1], so3mat[0][2], so3mat[1][0]])"
   ]
  },
  {
   "cell_type": "code",
   "execution_count": 8,
   "metadata": {
    "ExecuteTime": {
     "end_time": "2023-10-08T07:58:04.951489900Z",
     "start_time": "2023-10-08T07:58:04.605261600Z"
    }
   },
   "outputs": [
    {
     "name": "stdout",
     "output_type": "stream",
     "text": [
      "[[ 0 -3  2]\n",
      " [ 3  0 -1]\n",
      " [-2  1  0]]\n",
      "[1 2 3]\n"
     ]
    }
   ],
   "source": [
    "so3mat = VecToso3([1, 2, 3])\n",
    "print(so3mat)\n",
    "\n",
    "so3vec = so3ToVec(so3mat)\n",
    "print(so3vec)\n"
   ]
  },
  {
   "cell_type": "markdown",
   "metadata": {},
   "source": [
    "### 转动的指数坐标表示\n",
    "\n",
    "> 向量$\\hat\\omega\\theta\\in\\mathbb{R}^3$就是**转动的三参数指数坐标**表示形式，单独写$\\hat\\omega$和$\\theta$就是转动的轴-角(axis-angle)表示法。"
   ]
  },
  {
   "cell_type": "markdown",
   "metadata": {},
   "source": [
    "**线性微分方程理论概述**\n",
    "\n",
    "向量线性常微分方程：\n",
    "$$\n",
    "\\dot x(t)=Ax(t)\n",
    "$$\n",
    "式中，$x(t)\\in\\mathbb{R}^n$, $A\\in\\mathbb{R}^{n\\times n}$为常数，初始条件$x(0)=x_0$已知，解为：\n",
    "$$\n",
    "x(t)=e^{At}x_0\n",
    "$$\n",
    "\n",
    "**矩阵指数A**$e^{At}$满足如下特性：\n",
    "- $d(e^{At})/dt=Ae^{At}=e^{At}A$\n",
    "- $Ae^{At}=e^{At}A$\n",
    "- 若$A=PDP^{-1}$（$D\\in\\mathbb{R}^{n\\times n}$，可逆阵$P\\in\\mathbb{R}^{n\\times n}$），则有$e^{At}=Pe^{Dt}P^{-1}$\n",
    "- 若$AB=BA$，则有$e^Ae^B=e^{A+B}$\n",
    "- $(e^A)^{-1}=e^{-A}$\n",
    "$$"
   ]
  },
  {
   "cell_type": "markdown",
   "metadata": {},
   "source": [
    "**罗德里格斯公式(Rodrigues' formula)：** 给定向量$\\hat\\omega\\theta\\in\\mathbb{R}^3$，$\\theta$为任一标量，而$\\hat\\omega\\in\\mathbb{R}^3$为单位向量，$[\\hat\\omega]\\theta=[\\hat\\omega\\theta]\\in so(3)$的矩阵指数为\n",
    "$$\n",
    "\\text{Rot}(\\hat\\omega, \\theta)=e^{[\\hat\\omega]\\theta}=I+\\sin\\theta[\\hat\\omega]+(1-\\cos\\theta)[\\hat\\omega]^2\\in SO(3)\n",
    "$$\n"
   ]
  },
  {
   "cell_type": "code",
   "execution_count": 9,
   "metadata": {
    "ExecuteTime": {
     "end_time": "2023-10-08T07:58:04.951489900Z",
     "start_time": "2023-10-08T07:58:04.613066700Z"
    }
   },
   "outputs": [],
   "source": [
    "def Rodrigues(omega, theta):\n",
    "    \"\"\"Rodrigues' formula implementation\n",
    "\n",
    "    :param omega: A 3-Vector array\n",
    "    :param theta: A scalar\n",
    "    :return: The Rotaion Matrix in SO(3)\n",
    "    \"\"\"\n",
    "    omega = Normalize(omega)\n",
    "    return np.identity(3) + np.sin(theta)*VecToso3(omega) + (1 - np.cos(theta))* np.linalg.matrix_power(VecToso3(omega), 2)"
   ]
  },
  {
   "cell_type": "code",
   "execution_count": 10,
   "metadata": {
    "ExecuteTime": {
     "end_time": "2023-10-08T07:58:04.951489900Z",
     "start_time": "2023-10-08T07:58:04.617074300Z"
    }
   },
   "outputs": [
    {
     "name": "stdout",
     "output_type": "stream",
     "text": [
      "[[ 1.00000000e+00 -6.83580866e-17  0.00000000e+00]\n",
      " [-6.83580866e-17  1.00000000e+00  0.00000000e+00]\n",
      " [ 0.00000000e+00  0.00000000e+00  1.00000000e+00]]\n",
      "[[ 1.00000000e+00  4.26642159e-17  1.22133484e-17]\n",
      " [ 4.26642159e-17  1.00000000e+00 -3.52068201e-17]\n",
      " [ 1.22133484e-17 -3.52068201e-17  1.00000000e+00]]\n"
     ]
    }
   ],
   "source": [
    "# print(np.identity(3))\n",
    "# print(np.eye(3))\n",
    "\n",
    "A = Rodrigues(Normalize([1, 1, 0]), 90.0/180.0*np.pi)\n",
    "# print(\"A\", A)\n",
    "# AN = Rodrigues([-1,-1,0], -90.0/180.0*np.pi)\n",
    "# print(\"AN\", AN)\n",
    "\n",
    "print(np.dot(A.T, A))\n",
    "\n",
    "B = Rot(Normalize([1, 1, 0]), 90.0/180.0*np.pi)\n",
    "# print(\"B\", B)\n",
    "# BN = Rot([-1, -1, 0], -90.0/180.0*np.pi)\n",
    "# print(\"BN\", BN)\n",
    "\n",
    "print(np.dot(B.T, B))"
   ]
  },
  {
   "cell_type": "markdown",
   "metadata": {},
   "source": [
    "> **注意**：输入Rodrigues和Rot的函数一定要先Normalize，这个处理可以日后加到函数里，给定任一向量直接Normalize后再运算"
   ]
  },
  {
   "cell_type": "markdown",
   "metadata": {},
   "source": [
    "**刚体转动的矩阵对数**\n",
    "\n",
    "若$\\hat\\omega\\theta\\in\\mathbb{R}^3$表示旋转矩阵$R$的指数坐标，那么反对称矩阵$[\\hat\\omega\\theta]=[\\hat\\omega]\\theta$就是矩阵$R$的**矩阵对数（matrix logarithm）**\n",
    "\n",
    "> 矩阵指数是$e^{[\\hat\\omega]\\theta}$，代表的是旋转矩阵$R\\in\\mathbb{R}^3$\n",
    "> \n",
    "> 矩阵对数是$[\\hat\\omega]\\theta$，代表的是旋转矩阵变化率（速度）"
   ]
  },
  {
   "cell_type": "markdown",
   "metadata": {},
   "source": [
    "矩阵指数SO(3)和矩阵对数so(3)之间的转换函数"
   ]
  },
  {
   "cell_type": "code",
   "execution_count": 11,
   "metadata": {
    "ExecuteTime": {
     "end_time": "2023-10-08T07:58:04.965522400Z",
     "start_time": "2023-10-08T07:58:04.627998400Z"
    }
   },
   "outputs": [],
   "source": [
    "def MatrixExp3(so3mat):\n",
    "    \"\"\"Computes the matrix exponential of a matrix in so(3)\n",
    "\n",
    "    :param so3mat: A 3x3 skew-symmetric matrix\n",
    "    :return: The matrix exponential of so3mat\n",
    "\n",
    "    Example Input:\n",
    "        so3mat = np.array([[ 0, -3,  2],\n",
    "                           [ 3,  0, -1],\n",
    "                           [-2,  1,  0]])\n",
    "    Output:\n",
    "        np.array([[-0.69492056,  0.71352099,  0.08929286],\n",
    "                  [-0.19200697, -0.30378504,  0.93319235],\n",
    "                  [ 0.69297817,  0.6313497 ,  0.34810748]])\n",
    "    \"\"\"\n",
    "    omgtheta = so3ToVec(so3mat) # 从so(3)获取向量\\omega=\\hat\\omega\\theta\n",
    "    if NearZero(np.linalg.norm(omgtheta)):\n",
    "        return np.eye(3) # 如果omgtheta为零向量，则说明没转动，直接返回单位阵\n",
    "    else:\n",
    "        theta = np.linalg.norm(omgtheta) # 获取theta值，就是L2范数\n",
    "        omega = omgtheta / theta         # 获取单位旋转轴\\hat\\omega\n",
    "        return Rodrigues(omega, theta)   # Rodrigues公式获取旋转矩阵SO(3)"
   ]
  },
  {
   "cell_type": "code",
   "execution_count": 12,
   "metadata": {
    "ExecuteTime": {
     "end_time": "2023-10-08T07:58:04.967494600Z",
     "start_time": "2023-10-08T07:58:04.634329500Z"
    }
   },
   "outputs": [],
   "source": [
    "def MatrixLog3(R):\n",
    "    \"\"\"Computes the matrix logarithm of a rotation matrix\n",
    "\n",
    "    :param R: A 3x3 rotation matrix\n",
    "    :return: The matrix logarithm of R\n",
    "\n",
    "    Example Input:\n",
    "        R = np.array([[0, 0, 1],\n",
    "                      [1, 0, 0],\n",
    "                      [0, 1, 0]])\n",
    "    Output:\n",
    "        np.array([[          0, -1.20919958,  1.20919958],\n",
    "                  [ 1.20919958,           0, -1.20919958],\n",
    "                  [-1.20919958,  1.20919958,           0]])\n",
    "    \"\"\"\n",
    "\n",
    "    cos_theta = (np.trace(R) - 1.0) / 2.0 # 获取cosθ的值\n",
    "    if cos_theta >= 1: # 对应R=I, θ=0的情况，此时没转动，ω不存在，直接返回零矩阵\n",
    "        np.zeros(3, 3)\n",
    "    elif cos_theta <= -1: # 对应θ=π的情况，此时为以下三种中任一值（主要看分母是否为0）\n",
    "        if not NearZero(1 + R[2][2]):\n",
    "            omega = (1.0 / np.sqrt(2 * (1 + R[2][2]))) * np.array([R[0][2], R[1][2], 1 + R[2][2]])\n",
    "        elif not NearZero(1 + R[1][1]):\n",
    "            omega = (1.0 / np.sqrt(2 * (1 + R[1][1]))) * np.array([R[0][1], 1 + R[1][1], R[2][1]])\n",
    "        else:\n",
    "            omega = (1.0 / np.sqrt(2 * (1 + R[0][0]))) * np.array([1 + R[0][0], R[1][0], R[2][0]])\n",
    "        return VecToso3(np.pi * omega)\n",
    "    else: # 其他情况\n",
    "        theta = np.arccos(cos_theta)\n",
    "        return theta / 2.0 / np.sin(theta) * (R - np.array(R).T)"
   ]
  },
  {
   "cell_type": "markdown",
   "metadata": {},
   "source": [
    "测试："
   ]
  },
  {
   "cell_type": "code",
   "execution_count": 13,
   "metadata": {
    "ExecuteTime": {
     "end_time": "2023-10-08T07:58:04.975589600Z",
     "start_time": "2023-10-08T07:58:04.640047100Z"
    }
   },
   "outputs": [
    {
     "name": "stdout",
     "output_type": "stream",
     "text": [
      "Axis Angle: \n",
      "  (array([0.40824829, 0.81649658, 0.40824829]), 2.449489742783178)\n",
      "so3mat:\n",
      "  [[ 0 -1  2]\n",
      " [ 1  0 -1]\n",
      " [-2  1  0]]\n",
      "MatrixExp3：\n",
      " [[-0.47492144  0.32944181  0.81603782]\n",
      " [ 0.85049534  0.41003142  0.32944181]\n",
      " [-0.22606924  0.85049534 -0.47492144]]\n",
      "MatrixLog3:\n",
      " [[ 0. -1.  2.]\n",
      " [ 1.  0. -1.]\n",
      " [-2.  1.  0.]]\n",
      "so3 vec:  [1. 2. 1.]\n",
      "Axis Angle: \n",
      "  (array([0.40824829, 0.81649658, 0.40824829]), 2.4494897427831814)\n"
     ]
    }
   ],
   "source": [
    "vec = [1, 2, 1] # 这个就是指数坐标\n",
    "so3mat = VecToso3(vec) # 获取so3mat，这个就是矩阵对数\n",
    "\n",
    "print(\"Axis Angle: \\n \", AxisAng3(vec))\n",
    "\n",
    "# so3mat = np.array([[ 0, -3,  2],\n",
    "#                     [ 3,  0, -1],\n",
    "#                     [-2,  1,  0]])\n",
    "\n",
    "print(\"so3mat:\\n \", so3mat)\n",
    "\n",
    "R = MatrixExp3(so3mat)\n",
    "\n",
    "print(\"MatrixExp3：\\n\", R)\n",
    "\n",
    "# print(\"R:\\n\", Rodrigues(*AxisAng3(vec)))\n",
    "\n",
    "Log3 = MatrixLog3(R);\n",
    "\n",
    "print(\"MatrixLog3:\\n\", Log3)\n",
    "\n",
    "so3vec = so3ToVec(Log3)\n",
    "print(\"so3 vec: \", so3vec)\n",
    "\n",
    "print(\"Axis Angle: \\n \", AxisAng3(so3vec)) # 这个结果和之前的vec等价，相当于正反转到2pi"
   ]
  },
  {
   "cell_type": "markdown",
   "metadata": {},
   "source": [
    "$$\n",
    "[\\hat\\omega]=\\frac{1}{2\\sin\\theta}(R-R^T)\n",
    "$$\n",
    "\n",
    "因此当$\\theta$是$\\pi$的整数倍，$[\\hat\\omega]$不能很好定义\n",
    "\n",
    "> 对于转动的任意三参数表示，类似的奇异是不可避免的"
   ]
  },
  {
   "cell_type": "markdown",
   "metadata": {},
   "source": [
    "**算法：** 给定$R\\in SO)=(3)$，总是能找到单位转轴$\\hat\\omega\\in\\mathbb{R}^3$，且$||\\hat\\omega||=1$，$\\theta\\in(0,\\pi)$，使得$R=e^{[\\hat\\omega]\\theta}$。其中，向量$\\hat\\omega\\theta\\in\\mathbb{R}^3$是$R$的指数坐标，而反对称矩阵$[\\hat\\omega]\\in so(3)$是$R$的矩阵对数。\n",
    "\n",
    "- 若$R=I$，则$\\theta=0$，而$\\hat\\omega$不确定。（相当于根本没转动）\n",
    "- 若$\\text{tr}R=-1$，则$\\theta=\\pi$。这时，$\\hat\\omega$可以取下述3种情况的任一值。\n",
    "\n",
    "$$\n",
    "\\hat\\omega=\\frac{1}{\\sqrt{2(1+r_{33})}}\\begin{bmatrix}r13\\\\r23\\\\1+r_{33}\\end{bmatrix}\n",
    "$$\n",
    "或者\n",
    "$$\n",
    "\\hat\\omega=\\frac{1}{\\sqrt{2(1+r_{22})}}\\begin{bmatrix}r12\\\\1+r22\\\\r_{32}\\end{bmatrix}\n",
    "$$\n",
    "或者\n",
    "$$\n",
    "\\hat\\omega=\\frac{1}{\\sqrt{2(1+r_{11})}}\\begin{bmatrix}1+r11\\\\r21\\\\r_{31}\\end{bmatrix}\n",
    "$$\n",
    "（注意到$-\\hat\\omega$也可以作为一组解）\n",
    "\n",
    "其他情况下，\n",
    "$$\n",
    "\\theta=\\cos^{-1}(\\frac 1 2 (\\text{tr}R-1))\\in [0,\\pi)] \\newline\n",
    "\n",
    " [\\hat\\omega]=\\frac{1}{2\\sin\\theta}(R-R^T)\n",
    "$$\n",
    "\n",
    "> 旋转群SO(3)可以看成一个半径为$\\pi$的实体球，指数坐标$r=\\hat\\omega\\theta$可以位于实体球内的任意位置。"
   ]
  },
  {
   "cell_type": "markdown",
   "metadata": {},
   "source": [
    "## 刚体运动与运动旋量\n",
    "\n",
    "- 齐次变换矩阵$T$与旋转矩阵$R$相对应\n",
    "- 螺旋轴$S$与旋转轴$\\hat\\omega$相对应\n",
    "- 运动旋量$\\mathcal{V}(S\\dot\\theta)$与角速度$\\omega=\\hat\\omega\\dot\\theta$相对应\n",
    "- 刚体位移指数坐标$S\\theta\\in\\mathbb{R}^6$与刚体转动的指数坐标$\\hat\\omega\\theta\\in\\mathbb{R}^3$"
   ]
  },
  {
   "cell_type": "markdown",
   "metadata": {},
   "source": [
    "**齐次变换矩阵**：特殊欧式群（special Euclidean group）SE(3)称为刚体运动运动（rigid-body motion）群或齐次变换矩阵（homogeneous transformation matrice）群，是所有4×4实矩阵$T$的集合，可写成：\n",
    "$$\n",
    "T=\\begin{bmatrix} R & p \\\\ 0 & 1 \\end{bmatrix} = \\begin{bmatrix} r_{11} & r_{12} & r_{13} & p_{1} \\\\ r_{21} & r_{22} & r_{23} & p_{2} \\\\ r_{31} & r_{32} & r_{33} & p_{3} \\\\ 0 & 0 & 0 & 1 \\end{bmatrix}\n",
    "$$\n",
    "\n",
    "式中，$R\\in SO(3)$，$p\\in\\mathbb{R}^3$为列向量"
   ]
  },
  {
   "cell_type": "markdown",
   "metadata": {},
   "source": [
    "齐次变换矩阵特性：\n",
    "\n",
    "- 齐次变换矩阵$T\\in SE(3)$的逆矩阵也是齐次变换矩阵，可以写成：\n",
    "$$\n",
    "T^{-1}=\\begin{bmatrix}R & p \\\\ 0 & 1\\end{bmatrix}^{-1}=\\begin{bmatrix}R^T & -R^Tp \\\\ 0 & 1\\end{bmatrix}\n",
    "$$\n",
    "- 两个齐次变换矩阵的乘积也是齐次变换矩阵\n",
    "- 齐次变换矩阵的乘法满足结合律$(T_1T_2)T_3=T_1(T_2T_3)$，但一般不满足交换律$T_1T_2\\neq T_2T_1$"
   ]
  },
  {
   "cell_type": "markdown",
   "metadata": {},
   "source": [
    "**齐次坐标（homogeneous coordinate）：** 向量$[x^T \\quad 1]^T$\n",
    "\n",
    "满足：\n",
    "- $||Tx-Ty||=||x-y||$，$||\\cdot||$表示向量在$\\mathbb{R}^3$中标准范数，$||x||=\\sqrt{x^Tx}$，也就是距离不变，**等距特性（preserves distances）**\n",
    "- $<Tx-Tz, Ty-Tz>=<x-z, y-z>$，式中$<\\cdot, \\cdot>$表示向量标准內积，$<x,y>=x^Ty$，**保角特性（preserves angles）**\n",
    "\n",
    "\n",
    "齐次变换矩阵用途：\n",
    "- 表示刚体的位形（位置和姿态）\n",
    "- 变换参考坐标系（用向量或坐标系来表示）\n",
    "- 表示向量或坐标系的位移\n",
    "\n",
    "\n",
    "**平移和旋转顺序**\n",
    "\n",
    "- 左乘$T$，固定坐标系变换，先旋转$R$，再平移$p$\n",
    "- 右乘$T$，物体坐标系变换，先平移$p$，再旋转$R$"
   ]
  },
  {
   "cell_type": "markdown",
   "metadata": {},
   "source": [
    "### 运动旋量 Twist\n",
    "\n",
    "- **物体运动旋量（body twist）**，定义为**物体坐标系中的速度**\n",
    "$$\n",
    "\\mathcal{V}_b=\\begin{bmatrix}\\omega_b \\\\ v_b \\end{bmatrix}\\in\\mathbb{R}^6, \n",
    "[\\mathcal{V}_b]=\\begin{bmatrix}[\\omega_b] & v_b \\\\ 0 & 0\\end{bmatrix}=T^{-1}\\dot T\\in se(3)\n",
    "$$\n",
    "\n",
    "- **空间运动旋量（spatial twist）**，定义为**空间固定坐标系中的速度**\n",
    "$$\n",
    "\\mathcal{V}_s=\\begin{bmatrix}\\omega_s \\\\ v_s \\end{bmatrix}\\in\\mathbb{R}^6, \n",
    "[\\mathcal{V}_s]=\\begin{bmatrix}[\\omega_s] & v_s \\\\ 0 & 0\\end{bmatrix}=\\dot TT^{-1}\\in se(3)\n",
    "$$\n",
    "\n",
    "> $v_s$可以看成刚体上与固定坐标系原点相重合的点的瞬时速度，并在固定坐标系中的度量"
   ]
  },
  {
   "cell_type": "markdown",
   "metadata": {},
   "source": [
    "$$\n",
    "[\\mathcal{V}_b]=T^{-1}[\\mathcal{V}_s]T \\newline\n",
    "[\\mathcal{V}_s]=T[\\mathcal{V}_b]T^{-1} \n",
    "$$\n"
   ]
  },
  {
   "cell_type": "markdown",
   "metadata": {},
   "source": [
    "$\\mathcal{V}_b$与$\\mathcal{V}_s$之间关系：\n",
    "$$\n",
    "\\begin{bmatrix}\\omega_s \\\\ v_s\\end{bmatrix}=\\begin{bmatrix}R & 0 \\\\ [p]R & R\\end{bmatrix}\\begin{bmatrix}\\omega_b \\\\ v_b\\end{bmatrix}\n",
    "$$\n",
    "\n",
    "给定$T=(R,p)\\in SE(3)$，其伴随变换矩阵(adjoint representation)$[Ad_T]$为：\n",
    "$$\n",
    "[Ad_T]=\\begin{bmatrix}R & 0 \\\\ [p]R & R\\end{bmatrix}\\in\\mathbb{R}^{6\\times 6}\n",
    "$$\n",
    "\n",
    "\n",
    "- $\\mathcal{V}'=[Ad_T]\\mathcal{V}$\n",
    "- $\\mathcal{V}'=Ad_T(\\mathcal{V})$\n",
    "- $[\\mathcal{V}']=T[\\mathcal{V}]T^{-1}$\n",
    "\n",
    "伴随矩阵性质：\n",
    "- $[Ad_{T_1}][Ad_{T_2}]\\mathcal{V}=[Ad_{T_1T_2}]\\mathcal{V}$\n",
    "- $[Ad_T]^{-1}=[Ad_{T^{-1}}]$"
   ]
  },
  {
   "cell_type": "markdown",
   "metadata": {},
   "source": [
    "TransToRp()：将齐次坐标拆分成旋转矩阵和位置向量"
   ]
  },
  {
   "cell_type": "code",
   "execution_count": 14,
   "metadata": {
    "ExecuteTime": {
     "end_time": "2023-10-08T07:58:04.980592400Z",
     "start_time": "2023-10-08T07:58:04.689992400Z"
    }
   },
   "outputs": [],
   "source": [
    "def TransToRp(T):\n",
    "    \"\"\"Converts a homogeneous transformation matrix into a rotation matrix\n",
    "    and position vector\n",
    "\n",
    "    :param T: A homogeneous transformation matrix\n",
    "    :return R: The corresponding rotation matrix,\n",
    "    :return p: The corresponding position vector.\n",
    "\n",
    "    Example Input:\n",
    "        T = np.array([[1, 0,  0, 0],\n",
    "                      [0, 0, -1, 0],\n",
    "                      [0, 1,  0, 3],\n",
    "                      [0, 0,  0, 1]])\n",
    "    Output:\n",
    "        (np.array([[1, 0,  0],\n",
    "                   [0, 0, -1],\n",
    "                   [0, 1,  0]]),\n",
    "         np.array([0, 0, 3]))\n",
    "    \"\"\"\n",
    "    T = np.array(T)\n",
    "    return T[0: 3, 0: 3], T[0: 3, 3]"
   ]
  },
  {
   "cell_type": "code",
   "execution_count": 15,
   "metadata": {
    "ExecuteTime": {
     "end_time": "2023-10-08T07:58:04.980592400Z",
     "start_time": "2023-10-08T07:58:04.694406200Z"
    }
   },
   "outputs": [],
   "source": [
    "def RpToTrans(R, p):\n",
    "    \"\"\"Converts a rotation matrix and a position vector into homogeneous\n",
    "    transformation matrix\n",
    "\n",
    "    :param R: A 3x3 rotation matrix\n",
    "    :param p: A 3-vector\n",
    "    :return: A homogeneous transformation matrix corresponding to the inputs\n",
    "\n",
    "    Example Input:\n",
    "        R = np.array([[1, 0,  0],\n",
    "                      [0, 0, -1],\n",
    "                      [0, 1,  0]])\n",
    "        p = np.array([1, 2, 5])\n",
    "    Output:\n",
    "        np.array([[1, 0,  0, 1],\n",
    "                  [0, 0, -1, 2],\n",
    "                  [0, 1,  0, 5],\n",
    "                  [0, 0,  0, 1]])\n",
    "    \"\"\"\n",
    "    return np.r_[np.c_[R, p], [[0, 0, 0, 1]]]"
   ]
  },
  {
   "cell_type": "markdown",
   "metadata": {},
   "source": [
    "TransInv()：齐次矩阵求逆，主要基于$T^{-1}=\\begin{bmatrix}R & p \\\\ 0 & 1\\end{bmatrix}^{-1}=\\begin{bmatrix}R^T & -R^Tp \\\\ 0 & 1\\end{bmatrix}\n",
    "$"
   ]
  },
  {
   "cell_type": "code",
   "execution_count": 16,
   "metadata": {
    "ExecuteTime": {
     "end_time": "2023-10-08T07:58:04.983625800Z",
     "start_time": "2023-10-08T07:58:04.700578200Z"
    }
   },
   "outputs": [],
   "source": [
    "def TransInv(T):\n",
    "    \"\"\"Inverts a homogeneous transformation matrix\n",
    "\n",
    "    :param T: A homogeneous transformation matrix\n",
    "    :return: The inverse of T\n",
    "    Uses the structure of transformation matrices to avoid taking a matrix\n",
    "    inverse, for efficiency.\n",
    "\n",
    "    Example input:\n",
    "        T = np.array([[1, 0,  0, 0],\n",
    "                      [0, 0, -1, 0],\n",
    "                      [0, 1,  0, 3],\n",
    "                      [0, 0,  0, 1]])\n",
    "    Output:\n",
    "        np.array([[1,  0, 0,  0],\n",
    "                  [0,  0, 1, -3],\n",
    "                  [0, -1, 0,  0],\n",
    "                  [0,  0, 0,  1]])\n",
    "    \"\"\"\n",
    "    R, p = TransToRp(T)\n",
    "    Rt = np.array(R).T\n",
    "    return np.r_[np.c_[Rt, -np.dot(Rt, p)], [[0, 0, 0, 1]]]"
   ]
  },
  {
   "cell_type": "markdown",
   "metadata": {},
   "source": [
    "Adjoint()：获取齐次矩阵的伴随矩阵"
   ]
  },
  {
   "cell_type": "code",
   "execution_count": 17,
   "metadata": {
    "ExecuteTime": {
     "end_time": "2023-10-08T07:58:04.986710100Z",
     "start_time": "2023-10-08T07:58:04.708120500Z"
    }
   },
   "outputs": [],
   "source": [
    "def Adjoint(T):\n",
    "    \"\"\"Computes the adjoint representation of a homogeneous transformation\n",
    "    matrix\n",
    "\n",
    "    :param T: A homogeneous transformation matrix\n",
    "    :return: The 6x6 adjoint representation [AdT] of T\n",
    "\n",
    "    Example Input:\n",
    "        T = np.array([[1, 0,  0, 0],\n",
    "                      [0, 0, -1, 0],\n",
    "                      [0, 1,  0, 3],\n",
    "                      [0, 0,  0, 1]])\n",
    "    Output:\n",
    "        np.array([[1, 0,  0, 0, 0,  0],\n",
    "                  [0, 0, -1, 0, 0,  0],\n",
    "                  [0, 1,  0, 0, 0,  0],\n",
    "                  [0, 0,  3, 1, 0,  0],\n",
    "                  [3, 0,  0, 0, 0, -1],\n",
    "                  [0, 0,  0, 0, 1,  0]])\n",
    "    \"\"\"\n",
    "\n",
    "    R, p = TransToRp(T)\n",
    "\n",
    "    return np.r_[np.c_[R, np.zeros([3,3])], \n",
    "                 np.c_[np.dot(VecToso3(p), R), R]];\n"
   ]
  },
  {
   "cell_type": "markdown",
   "metadata": {},
   "source": [
    "例题 3.23"
   ]
  },
  {
   "cell_type": "code",
   "execution_count": 18,
   "metadata": {
    "ExecuteTime": {
     "end_time": "2023-10-08T07:58:04.997686200Z",
     "start_time": "2023-10-08T07:58:04.720994600Z"
    }
   },
   "outputs": [
    {
     "name": "stdout",
     "output_type": "stream",
     "text": [
      "[ 0  0  2 -2 -4  0]\n",
      "[ 0.  0.  2. -2. -4.  0.]\n",
      "[ 0.   0.  -2.   2.8  4.   0. ]\n",
      "[ 0.   0.  -2.   2.8  4.   0. ]\n"
     ]
    }
   ],
   "source": [
    "v_s = np.array([0, 0, 2, -2, -4, 0])\n",
    "v_b = np.array([0, 0, -2, 2.8, 4, 0])\n",
    "\n",
    "T_sb = np.array([[ -1,  0,  0,    4],\n",
    "                 [  0,  1,  0,  0.4],\n",
    "                 [  0,  0, -1,    0],\n",
    "                 [  0,  0,  0,    1]])\n",
    "\n",
    "\n",
    "print(v_s)\n",
    "print(np.dot(Adjoint(T_sb), v_b))\n",
    "\n",
    "print(v_b)\n",
    "print(np.dot(Adjoint(TransInv(T_sb)), v_s))\n"
   ]
  },
  {
   "cell_type": "markdown",
   "metadata": {},
   "source": [
    "**运动旋量的螺旋释义**\n",
    "\n",
    "- 若$\\omega\\neq 0$，$\\mathcal{S}=\\mathcal{V}/||\\omega||=(\\omega/||\\omega||, v/||\\omega||)$，螺旋轴角速度$\\dot\\theta=||\\omega||$，$\\mathcal{S}\\dot\\theta=\\mathcal{V}$\n",
    "- 若$\\omega = 0$，$\\mathcal{S}=\\mathcal{V}/||v||=(0, v/||v||)$，螺旋轴角速度$\\dot\\theta=||v||$，$\\mathcal{S}\\dot\\theta=\\mathcal{V}$\n",
    "\n",
    "> 螺旋轴$\\mathcal{S}$和$\\mathcal{V}$的区别：螺旋轴$\\mathcal{S}$中$||\\omega||$或$||v||$必为1，而旋量$\\mathcal{V}$则对$\\omega$和$v$没限制"
   ]
  },
  {
   "cell_type": "markdown",
   "metadata": {},
   "source": [
    "给定参考系，螺旋轴$\\mathcal{S}$可写成\n",
    "$$\n",
    "\\mathcal{S}=\\begin{bmatrix}\\omega \\\\ v\\end{bmatrix}\\in \\mathbb{R}^6\n",
    "$$\n",
    "\n",
    "式中:\n",
    "- 若$||\\omega||=1$，则$v=-\\omega\\times q + h\\omega$，式中$q$为**轴**上任一点，$h$为螺旋的节距（纯转动则$h=0$）\n",
    "- 若$\\omega=0, ||v||=1$， 则螺旋的节距无穷大，对应的运动旋量为纯转动，参数中只有$v$\n",
    "\n",
    "> 这个很关键，是在正运动学中求解旋量的方法"
   ]
  },
  {
   "cell_type": "markdown",
   "metadata": {},
   "source": [
    "### 刚体运动的指数坐标表达\n",
    "\n",
    "$$\n",
    "\\text{exp: } [\\mathcal{S}\\theta]\\in se(3) \\rightarrow T\\in SE(3) \\newline\n",
    "\\text{log: } T\\in SE(3) \\rightarrow [\\mathcal{S}\\theta]\\in se(3)\n",
    "$$\n",
    "\n",
    "令$\\mathcal{S}=(\\omega, v)$为螺旋轴，若$||\\omega||=1$， 则对于任意沿螺旋轴的距离$\\theta\\in\\mathbb{R}$，都有\n",
    "$$\n",
    " e^{[\\mathcal{S}]\\theta}=\\begin{bmatrix}e^{[\\omega]\\theta} & (I\\theta+(1-\\cos\\theta)[\\omega]+(\\theta-\\sin\\theta)[\\omega]^2)v \\\\ 0 & 1 \\end{bmatrix}\n",
    "$$\n",
    "\n",
    "若$\\omega=0$，$||v||=1$，则\n",
    "$$\n",
    "e^{[\\mathcal{S}]\\theta}=\\begin{bmatrix}I & v\\theta \\\\ 0 & 1\\end{bmatrix}\n",
    "$$"
   ]
  },
  {
   "cell_type": "markdown",
   "metadata": {},
   "source": [
    "给定任意的$(R,p)\\in SE(3)$，总能找到与之相对应的螺旋轴$\\mathcal{S}=(\\omega, v)$和标量$\\theta$，满足\n",
    "$$\n",
    "e^{[\\mathcal{S}]\\theta}=\\begin{bmatrix}R & p \\\\ 0 & 1\\end{bmatrix}\n",
    "$$\n",
    "式中，矩阵\n",
    "$$\n",
    "[\\mathcal{S}]\\theta=\\begin{bmatrix}[\\omega]\\theta & v\\theta \\\\ 0 & 1\\end{bmatrix}\\in se(3)\n",
    "$$\n",
    "是$T=(R,p)$的矩阵对数形式。"
   ]
  },
  {
   "cell_type": "markdown",
   "metadata": {},
   "source": [
    "## 力旋量 Wrench\n",
    "\n",
    "作用在刚体上一点$r\\in\\mathbb{R}^3$的纯力$f\\in\\mathbb{R}^3$，该力在参考坐标系{a}产生的力矩（torque）或力偶（moment）$m\\in\\mathbb{R}^3$可写成：\n",
    "$$\n",
    "m = r\\times f\n",
    "$$\n"
   ]
  },
  {
   "cell_type": "markdown",
   "metadata": {},
   "source": [
    "将力和力矩合成一个六维的**空间力（spatial force）**，称为**力旋量（wrench）**：\n",
    "$$\n",
    "\\mathcal{F} = \\begin{bmatrix}m \\\\ f\\end{bmatrix}\\in\\mathbb{R}^6\n",
    "$$\n",
    "\n",
    "> 注意：力矩放在前面\n"
   ]
  },
  {
   "cell_type": "markdown",
   "metadata": {},
   "source": [
    "力旋量$\\mathcal{F}$及其在坐标系{a}中的表示$\\mathcal{F}_a$和在坐标系{b}中的表示$\\mathcal{F}_b$，两者之间关系可写成：\n",
    "$$\n",
    "\\mathcal{F}_b=Ad_{T_{ab}}^T(\\mathcal{F}_a)=[Ad_{T_{ab}}]^T\\mathcal{F}_a \\newline\n",
    "\\mathcal{F}_a=Ad_{T_{ba}}^T(\\mathcal{F}_b)=[Ad_{T_{ba}}]^T\\mathcal{F}_b\n",
    "$$"
   ]
  },
  {
   "cell_type": "markdown",
   "metadata": {},
   "source": [
    "例题 3.28 思路：\n",
    "\n",
    "因为需要得到六维力传感器处的力旋量$\\mathcal{F}_f$，得到机械手重力在其质心处的力旋量$\\mathcal{F}_h$（没有力矩作用，只有力），以及苹果重力在其质心处的力旋量$\\mathcal{F}_a$，则$\\mathcal{F}_f = [Ad_{T_{hf}}]^T\\mathcal{F}_h + [Ad_{T_{af}}]^T\\mathcal{F}_a $"
   ]
  },
  {
   "cell_type": "code",
   "execution_count": 19,
   "metadata": {
    "ExecuteTime": {
     "end_time": "2023-10-08T07:58:05.015685700Z",
     "start_time": "2023-10-08T07:58:04.762880300Z"
    }
   },
   "outputs": [
    {
     "data": {
      "text/plain": "array([ 0.00000000e+00, -2.77555756e-17, -7.50000000e-01,  0.00000000e+00,\n       -6.00000000e+00,  1.11022302e-16])"
     },
     "execution_count": 19,
     "metadata": {},
     "output_type": "execute_result"
    }
   ],
   "source": [
    "L_1 = 0.1 # 10 cm\n",
    "L_2 = 0.15 # 15 cm\n",
    "\n",
    "F_h = [0, 0, 0, 0, -5, 0]\n",
    "F_a = [0, 0, 0, 0,  0, 1]\n",
    "\n",
    "p_hf = [-L_1, 0, 0]\n",
    "p_af = [-(L_1 + L_2), 0, 0]\n",
    "\n",
    "R_hf = Rodrigues([0, 0, 1], 0) # 方向一致\n",
    "R_af = Rodrigues([1, 0, 0], -90.0 / 180.0 * np.pi) # 绕x_a转-90°\n",
    "\n",
    "T_hf = RpToTrans(R_hf, p_hf)\n",
    "T_af = RpToTrans(R_af, p_af)\n",
    "\n",
    "F_f = np.dot(Adjoint(T_hf).T, F_h) + np.dot(Adjoint(T_af).T, F_a)\n",
    "F_f\n"
   ]
  },
  {
   "cell_type": "code",
   "execution_count": 19,
   "outputs": [],
   "source": [],
   "metadata": {
    "collapsed": false,
    "ExecuteTime": {
     "end_time": "2023-10-08T07:58:05.019686Z",
     "start_time": "2023-10-08T07:58:04.771243100Z"
    }
   }
  }
 ],
 "metadata": {
  "interpreter": {
   "hash": "1e147cb73cde116f65fef45c392b359187d7b526e04d5e817a013b76f7eee0c1"
  },
  "kernelspec": {
   "display_name": "Python 3.8.12 ('d2l')",
   "language": "python",
   "name": "python3"
  },
  "language_info": {
   "codemirror_mode": {
    "name": "ipython",
    "version": 3
   },
   "file_extension": ".py",
   "mimetype": "text/x-python",
   "name": "python",
   "nbconvert_exporter": "python",
   "pygments_lexer": "ipython3",
   "version": "3.8.12"
  },
  "orig_nbformat": 4
 },
 "nbformat": 4,
 "nbformat_minor": 2
}
