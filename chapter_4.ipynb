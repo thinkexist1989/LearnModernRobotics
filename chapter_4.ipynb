{
 "cells": [
  {
   "cell_type": "markdown",
   "metadata": {},
   "source": [
    "# 第四章 正向运动学\n",
    "\n",
    "已知关节坐标，求解末端的位置和姿态。"
   ]
  },
  {
   "cell_type": "markdown",
   "metadata": {},
   "source": [
    "线速度和角速度矢量关系\n",
    "\n",
    "$$ v = \\omega \\times q $$\n",
    "\n",
    "- $\\omega$为旋转轴角速度矢量\n",
    "- $q$为矢径，方向由圆心向外（只要是旋转轴上一点到点的矢量即可）\n",
    "- $v$为线速度"
   ]
  },
  {
   "cell_type": "markdown",
   "metadata": {},
   "source": [
    "## 指数积公式\n",
    "\n",
    "### 第一种表达形式：相对基坐标系的螺旋轴\n",
    "\n",
    "PoE公式背后关键：将每个关节的螺旋运动施加给后面的杆。\n",
    "\n",
    "$$\n",
    "T(\\theta)=e^{[S_1]\\theta_1}\\cdots e^{[S_{n-1}]\\theta_{n-1}}e^{[S_n]\\theta_n}M\n",
    "$$\n"
   ]
  },
  {
   "cell_type": "markdown",
   "metadata": {},
   "source": [
    "### 第二种表达形式：相对末端坐标系的螺旋轴"
   ]
  }
 ],
 "metadata": {
  "interpreter": {
   "hash": "1e147cb73cde116f65fef45c392b359187d7b526e04d5e817a013b76f7eee0c1"
  },
  "kernelspec": {
   "display_name": "Python 3.8.12 ('d2l')",
   "language": "python",
   "name": "python3"
  },
  "language_info": {
   "name": "python",
   "version": "3.8.12"
  },
  "orig_nbformat": 4
 },
 "nbformat": 4,
 "nbformat_minor": 2
}
